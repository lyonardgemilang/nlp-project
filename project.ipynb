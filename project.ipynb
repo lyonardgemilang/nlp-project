{
 "cells": [
  {
   "cell_type": "code",
   "execution_count": null,
   "metadata": {},
   "outputs": [],
   "source": [
    "import numpy as np\n",
    "import spacy as sp\n",
    "import pandas as pd\n",
    "import tweepy as x\n",
    "import matplotlib.pyplot as plt"
   ]
  },
  {
   "cell_type": "code",
   "execution_count": null,
   "metadata": {},
   "outputs": [],
   "source": [
    "print(np.__version__)"
   ]
  },
  {
   "cell_type": "code",
   "execution_count": null,
   "metadata": {},
   "outputs": [],
   "source": [
    "# # Replace with your actual bearer token\n",
    "# bearer_token = \"AAAAAAAAAAAAAAAAAAAAAB2HzwEAAAAAEOXZJjpw0gbVhuhh34SzqdLAFSg%3DuQfcw16XQ4R5IhggtFuc5n8Cc2EfpDTEOWcZZ1qvHYcWw8SIdI\"\n",
    "\n",
    "# # Initialize the client\n",
    "# client = x.Client(bearer_token=bearer_token)\n",
    "\n",
    "# # Define the search query\n",
    "# # Example: search for tweets containing \"Grok\", exclude retweets, and only include English tweets.\n",
    "# query = '(Grok OR #Grok) (opinion OR review OR feedback OR \"my experience\") -\"@\" -is:retweet lang:en'\n",
    "\n",
    "# # Fetch tweets using the client\n",
    "# # max_results can be between 10 and 100 per request for recent tweets\n",
    "# response = client.search_recent_tweets(query=query, max_results=50)\n",
    "\n",
    "# # Check if tweets were returned\n",
    "# if response.data:\n",
    "#     for tweet in response.data:\n",
    "#         print(tweet.text)\n",
    "# else:\n",
    "#     print(\"No tweets found for the query.\")"
   ]
  },
  {
   "cell_type": "code",
   "execution_count": null,
   "metadata": {},
   "outputs": [],
   "source": [
    "# annotated_data = { \n",
    "#     \"sentence\": [\"@grok @GladiatorMSTR oh my god grok is smart\",\n",
    "#                  \"Grok only use information from MSM media propaganda machine. And support that narrative from fake news. It's not neutral. Or free opinion.\",\n",
    "#                  ], \n",
    "#     \"entities\": [{\"label\": \"PERSON\", \"value\": \"@grok\"},\n",
    "#                     {\"label\": \"PERSON\", \"value\": \"@GladiatorMSTR\"},  \n",
    "#                 {\"label\": \"ARGS\", \"value\": \"smart\"}] \n",
    "    \n",
    "# }"
   ]
  },
  {
   "cell_type": "code",
   "execution_count": null,
   "metadata": {},
   "outputs": [],
   "source": [
    "import json\n",
    "\n",
    "# 1. Load spaCy English model\n",
    "nlp = sp.load(\"en_core_web_sm\")\n",
    "\n",
    "# 2. Read your file\n",
    "input_file = \"grok-tweet.txt\"\n",
    "with open(input_file, \"r\", encoding=\"utf-8\") as f:\n",
    "    lines = f.read().splitlines()\n",
    "\n",
    "annotated_data = []\n",
    "\n",
    "# 3. Process each line with spaCy and extract entities\n",
    "for line in lines:\n",
    "    if not line.strip():\n",
    "        continue  # Skip empty lines\n",
    "    \n",
    "    doc = nlp(line)\n",
    "    entities = []\n",
    "    \n",
    "    for ent in doc.ents:\n",
    "        entities.append({\n",
    "            \"start\": ent.start_char,\n",
    "            \"end\": ent.end_char,\n",
    "            \"label\": ent.label_,\n",
    "            \"text\": ent.text\n",
    "        })\n",
    "    \n",
    "    annotated_data.append({\n",
    "        \"text\": line,\n",
    "        \"entities\": entities\n",
    "    })\n",
    "\n",
    "# 4. (Optional) Save to a JSON file for later editing\n",
    "output_file = \"annotated_grok.json\"\n",
    "with open(output_file, \"w\", encoding=\"utf-8\") as out:\n",
    "    json.dump(annotated_data, out, indent=2, ensure_ascii=False)\n",
    "\n",
    "print(f\"Annotated data saved to {output_file}\")\n"
   ]
  },
  {
   "cell_type": "code",
   "execution_count": null,
   "metadata": {},
   "outputs": [],
   "source": [
    "from textblob import TextBlob\n",
    "\n",
    "input_file = \"grok-tweet.txt\"\n",
    "output_file = \"grok-sentiment.json\"\n",
    "\n",
    "with open(input_file, \"r\", encoding=\"utf-8\") as f:\n",
    "    lines = f.read().splitlines()\n",
    "\n",
    "annotated_data = []\n",
    "\n",
    "for line in lines:\n",
    "    # Skip empty lines\n",
    "    if not line.strip():\n",
    "        continue\n",
    "    \n",
    "    # 1. Get sentiment polarity from TextBlob\n",
    "    blob = TextBlob(line)\n",
    "    polarity = blob.sentiment.polarity  # -1.0 (negative) -> +1.0 (positive)\n",
    "    \n",
    "    # 2. Define simple threshold for sentiment label\n",
    "    if polarity > 0.1:\n",
    "        sentiment = \"positive\"\n",
    "    elif polarity < -0.1:\n",
    "        sentiment = \"negative\"\n",
    "    else:\n",
    "        sentiment = \"neutral\"\n",
    "    \n",
    "    annotated_data.append({\n",
    "        \"text\": line,\n",
    "        \"polarity\": polarity,\n",
    "        \"sentiment\": sentiment\n",
    "    })\n",
    "\n",
    "# 3. Save to JSON\n",
    "with open(output_file, \"w\", encoding=\"utf-8\") as out:\n",
    "    json.dump(annotated_data, out, indent=2, ensure_ascii=False)\n",
    "\n",
    "print(f\"Saved sentiment results to {output_file}\")\n"
   ]
  },
  {
   "cell_type": "code",
   "execution_count": null,
   "metadata": {},
   "outputs": [],
   "source": [
    "df = pd.read_json(\"grok-sentiment.json\")"
   ]
  },
  {
   "cell_type": "code",
   "execution_count": null,
   "metadata": {},
   "outputs": [],
   "source": [
    "df"
   ]
  },
  {
   "cell_type": "code",
   "execution_count": null,
   "metadata": {},
   "outputs": [],
   "source": [
    "df.to_csv(\"grok-sentiment.csv\", index=False)"
   ]
  },
  {
   "cell_type": "code",
   "execution_count": null,
   "metadata": {},
   "outputs": [],
   "source": [
    "df.to_json(\"grok-sentiment.json\", orient=\"records\", indent=2)"
   ]
  },
  {
   "cell_type": "code",
   "execution_count": null,
   "metadata": {},
   "outputs": [],
   "source": [
    "df = pd.read_json(\"grok-sentiment.json\")"
   ]
  },
  {
   "cell_type": "code",
   "execution_count": null,
   "metadata": {},
   "outputs": [],
   "source": [
    "df"
   ]
  },
  {
   "cell_type": "code",
   "execution_count": null,
   "metadata": {},
   "outputs": [],
   "source": [
    "df = df[~df['text'].str.startswith(' (', na=False)]\n"
   ]
  },
  {
   "cell_type": "code",
   "execution_count": null,
   "metadata": {},
   "outputs": [],
   "source": [
    "df"
   ]
  },
  {
   "cell_type": "code",
   "execution_count": null,
   "metadata": {},
   "outputs": [],
   "source": [
    "df.to_json(\"grok-sentiment-cleaned.json\", orient=\"records\", indent=4)"
   ]
  },
  {
   "cell_type": "code",
   "execution_count": null,
   "metadata": {},
   "outputs": [],
   "source": [
    "df_cleaned = pd.read_json(\"grok-sentiment-cleaned.json\")"
   ]
  },
  {
   "cell_type": "code",
   "execution_count": null,
   "metadata": {},
   "outputs": [],
   "source": [
    "df_cleaned"
   ]
  },
  {
   "cell_type": "code",
   "execution_count": null,
   "metadata": {},
   "outputs": [],
   "source": [
    "df_cleaned.isna().sum()"
   ]
  },
  {
   "cell_type": "code",
   "execution_count": null,
   "metadata": {},
   "outputs": [],
   "source": [
    "df_cleaned.duplicated().sum()"
   ]
  },
  {
   "cell_type": "code",
   "execution_count": null,
   "metadata": {},
   "outputs": [],
   "source": [
    "df_cleaned.isnull().sum()"
   ]
  },
  {
   "cell_type": "code",
   "execution_count": null,
   "metadata": {},
   "outputs": [],
   "source": [
    "import json\n",
    "\n",
    "with open(\"grok-sentiment-cleaned.json\", \"r\", encoding=\"utf-8\") as f:\n",
    "    data = json.load(f)\n",
    "\n",
    "df = pd.DataFrame(data)\n",
    "\n",
    "def get_final_label(row):\n",
    "    corr = str(row[\"corrected_sentiment\"]).strip().lower()\n",
    "    if corr in [\"positive\", \"negative\", \"neutral\"]:\n",
    "        return corr\n",
    "    else:\n",
    "        return str(row[\"sentiment\"]).strip().lower()\n",
    "\n",
    "df[\"final_sentiment\"] = df.apply(get_final_label, axis=1)\n",
    "df.to_csv(\"grok-sentiment-final.csv\", index=False, encoding=\"utf-8\")"
   ]
  },
  {
   "cell_type": "code",
   "execution_count": null,
   "metadata": {},
   "outputs": [],
   "source": [
    "df"
   ]
  },
  {
   "cell_type": "code",
   "execution_count": null,
   "metadata": {},
   "outputs": [],
   "source": [
    "df.drop(columns=[\"corrected_sentiment\"], inplace=True)"
   ]
  },
  {
   "cell_type": "code",
   "execution_count": null,
   "metadata": {},
   "outputs": [],
   "source": [
    "df"
   ]
  },
  {
   "cell_type": "code",
   "execution_count": null,
   "metadata": {},
   "outputs": [],
   "source": [
    "df.to_csv(\"grok-sentiment-final-2.csv\", index=False, encoding=\"utf-8\")"
   ]
  },
  {
   "cell_type": "code",
   "execution_count": null,
   "metadata": {},
   "outputs": [],
   "source": [
    "# from datasets import Dataset\n",
    "# from transformers import AutoTokenizer, AutoModelForSequenceClassification, TrainingArguments, Trainer\n",
    "\n",
    "# # 1) Load your final CSV\n",
    "# df = pd.read_csv(\"grok-sentiment-final.csv\")  # or read JSON\n",
    "# # Must have columns: text, final_sentiment\n",
    "\n",
    "# # 2) Convert to HF Dataset\n",
    "# dataset = Dataset.from_pandas(df)\n",
    "\n",
    "# # 3) Train/Test split\n",
    "# dataset = dataset.train_test_split(test_size=0.1)\n",
    "\n",
    "# # 4) Encode labels\n",
    "# labels = [\"negative\", \"neutral\", \"positive\"]  # or your chosen ordering\n",
    "# def encode_label(example):\n",
    "#     example[\"label\"] = labels.index(example[\"final_sentiment\"])\n",
    "#     return example\n",
    "\n",
    "# dataset = dataset.map(encode_label)\n",
    "\n",
    "# # 5) Tokenize text\n",
    "# tokenizer = AutoTokenizer.from_pretrained(\"distilbert-base-uncased\")\n",
    "# def tokenize_function(example):\n",
    "#     return tokenizer(example[\"text\"], truncation=True)\n",
    "\n",
    "# dataset = dataset.map(tokenize_function, batched=True)\n",
    "\n",
    "# # 6) Create model & train\n",
    "# model = AutoModelForSequenceClassification.from_pretrained(\"distilbert-base-uncased\", num_labels=len(labels))\n",
    "\n",
    "# training_args = TrainingArguments(\n",
    "#     output_dir=\"./results\",\n",
    "#     evaluation_strategy=\"epoch\",\n",
    "#     num_train_epochs=4,\n",
    "#     per_device_train_batch_size=8,\n",
    "#     per_device_eval_batch_size=8,\n",
    "# )\n",
    "\n",
    "# trainer = Trainer(\n",
    "#     model=model,\n",
    "#     args=training_args,\n",
    "#     train_dataset=dataset[\"train\"],\n",
    "#     eval_dataset=dataset[\"test\"],\n",
    "# )\n",
    "\n",
    "# trainer.train()"
   ]
  },
  {
   "cell_type": "code",
   "execution_count": 3,
   "metadata": {},
   "outputs": [
    {
     "data": {
      "application/vnd.jupyter.widget-view+json": {
       "model_id": "95949a21db5c4bf6856e6a45076e4d51",
       "version_major": 2,
       "version_minor": 0
      },
      "text/plain": [
       "Map:   0%|          | 0/401 [00:00<?, ? examples/s]"
      ]
     },
     "metadata": {},
     "output_type": "display_data"
    },
    {
     "data": {
      "application/vnd.jupyter.widget-view+json": {
       "model_id": "858dcc3561db483bb3305fc03255926f",
       "version_major": 2,
       "version_minor": 0
      },
      "text/plain": [
       "Map:   0%|          | 0/45 [00:00<?, ? examples/s]"
      ]
     },
     "metadata": {},
     "output_type": "display_data"
    },
    {
     "data": {
      "application/vnd.jupyter.widget-view+json": {
       "model_id": "f6b9baf95f3748b0a493894b2822eef6",
       "version_major": 2,
       "version_minor": 0
      },
      "text/plain": [
       "Map:   0%|          | 0/401 [00:00<?, ? examples/s]"
      ]
     },
     "metadata": {},
     "output_type": "display_data"
    },
    {
     "data": {
      "application/vnd.jupyter.widget-view+json": {
       "model_id": "c282bfa0262f40998c9fe2c66c3bd76e",
       "version_major": 2,
       "version_minor": 0
      },
      "text/plain": [
       "Map:   0%|          | 0/45 [00:00<?, ? examples/s]"
      ]
     },
     "metadata": {},
     "output_type": "display_data"
    },
    {
     "name": "stderr",
     "output_type": "stream",
     "text": [
      "Some weights of DistilBertForSequenceClassification were not initialized from the model checkpoint at distilbert-base-uncased and are newly initialized: ['classifier.bias', 'classifier.weight', 'pre_classifier.bias', 'pre_classifier.weight']\n",
      "You should probably TRAIN this model on a down-stream task to be able to use it for predictions and inference.\n"
     ]
    },
    {
     "data": {
      "text/html": [
       "\n",
       "    <div>\n",
       "      \n",
       "      <progress value='204' max='204' style='width:300px; height:20px; vertical-align: middle;'></progress>\n",
       "      [204/204 12:22, Epoch 4/4]\n",
       "    </div>\n",
       "    <table border=\"1\" class=\"dataframe\">\n",
       "  <thead>\n",
       " <tr style=\"text-align: left;\">\n",
       "      <th>Epoch</th>\n",
       "      <th>Training Loss</th>\n",
       "      <th>Validation Loss</th>\n",
       "    </tr>\n",
       "  </thead>\n",
       "  <tbody>\n",
       "    <tr>\n",
       "      <td>1</td>\n",
       "      <td>No log</td>\n",
       "      <td>0.676487</td>\n",
       "    </tr>\n",
       "    <tr>\n",
       "      <td>2</td>\n",
       "      <td>No log</td>\n",
       "      <td>0.452676</td>\n",
       "    </tr>\n",
       "    <tr>\n",
       "      <td>3</td>\n",
       "      <td>No log</td>\n",
       "      <td>0.423105</td>\n",
       "    </tr>\n",
       "    <tr>\n",
       "      <td>4</td>\n",
       "      <td>No log</td>\n",
       "      <td>0.464702</td>\n",
       "    </tr>\n",
       "  </tbody>\n",
       "</table><p>"
      ],
      "text/plain": [
       "<IPython.core.display.HTML object>"
      ]
     },
     "metadata": {},
     "output_type": "display_data"
    },
    {
     "data": {
      "text/plain": [
       "TrainOutput(global_step=204, training_loss=0.440793654497932, metrics={'train_runtime': 753.9676, 'train_samples_per_second': 2.127, 'train_steps_per_second': 0.271, 'total_flos': 15355108158696.0, 'train_loss': 0.440793654497932, 'epoch': 4.0})"
      ]
     },
     "execution_count": 3,
     "metadata": {},
     "output_type": "execute_result"
    }
   ],
   "source": [
    "import pandas as pd\n",
    "from datasets import Dataset\n",
    "from transformers import (\n",
    "    AutoTokenizer,\n",
    "    AutoModelForSequenceClassification,\n",
    "    TrainingArguments,\n",
    "    Trainer,\n",
    "    DataCollatorWithPadding,\n",
    ")\n",
    "\n",
    "# 1) Load your final CSV\n",
    "df = pd.read_csv(\"grok-sentiment-final.csv\")  \n",
    "# We expect columns: [\"text\", \"final_sentiment\"]\n",
    "\n",
    "# 2) Convert to a HuggingFace Dataset\n",
    "dataset = Dataset.from_pandas(df)\n",
    "\n",
    "# 3) Train/Test split\n",
    "dataset = dataset.train_test_split(test_size=0.1)\n",
    "\n",
    "# 4) Encode labels\n",
    "labels = [\"negative\", \"neutral\", \"positive\"]  # your chosen ordering\n",
    "def encode_label(example):\n",
    "    # We'll store the label in \"labels\" (the standard name HF uses)\n",
    "    example[\"labels\"] = labels.index(example[\"final_sentiment\"])\n",
    "    return example\n",
    "\n",
    "dataset = dataset.map(encode_label)\n",
    "\n",
    "# 5) Tokenize text\n",
    "tokenizer = AutoTokenizer.from_pretrained(\"distilbert-base-uncased\")\n",
    "\n",
    "def tokenize_function(batch):\n",
    "    # Enable padding so each batch has uniform sequence length\n",
    "    return tokenizer(batch[\"text\"], truncation=True, padding=True)\n",
    "\n",
    "dataset = dataset.map(tokenize_function, batched=True)\n",
    "\n",
    "# 6) Remove columns we no longer need, leaving only the model inputs + \"labels\"\n",
    "dataset = dataset.remove_columns([\"text\", \"final_sentiment\"])\n",
    "\n",
    "# 7) Create the model\n",
    "model = AutoModelForSequenceClassification.from_pretrained(\n",
    "    \"distilbert-base-uncased\",\n",
    "    num_labels=len(labels)\n",
    ")\n",
    "\n",
    "# 8) Use a data collator for dynamic padding at runtime\n",
    "data_collator = DataCollatorWithPadding(tokenizer)\n",
    "\n",
    "# 9) Training arguments (note we use eval_strategy instead of evaluation_strategy)\n",
    "training_args = TrainingArguments(\n",
    "    output_dir=\"./results\",\n",
    "    eval_strategy=\"epoch\",        # rather than evaluation_strategy\n",
    "    num_train_epochs=4,\n",
    "    per_device_train_batch_size=8,\n",
    "    per_device_eval_batch_size=8,\n",
    ")\n",
    "\n",
    "# 10) Create Trainer\n",
    "trainer = Trainer(\n",
    "    model=model,\n",
    "    args=training_args,\n",
    "    train_dataset=dataset[\"train\"],\n",
    "    eval_dataset=dataset[\"test\"],\n",
    "    data_collator=data_collator,\n",
    ")\n",
    "\n",
    "# 11) Train\n",
    "trainer.train()\n"
   ]
  },
  {
   "cell_type": "code",
   "execution_count": 4,
   "metadata": {},
   "outputs": [
    {
     "data": {
      "text/html": [
       "\n",
       "    <div>\n",
       "      \n",
       "      <progress value='6' max='6' style='width:300px; height:20px; vertical-align: middle;'></progress>\n",
       "      [6/6 00:03]\n",
       "    </div>\n",
       "    "
      ],
      "text/plain": [
       "<IPython.core.display.HTML object>"
      ]
     },
     "metadata": {},
     "output_type": "display_data"
    },
    {
     "name": "stdout",
     "output_type": "stream",
     "text": [
      "{'eval_loss': 0.46470242738723755, 'eval_runtime': 3.9559, 'eval_samples_per_second': 11.376, 'eval_steps_per_second': 1.517, 'epoch': 4.0}\n"
     ]
    }
   ],
   "source": [
    "metrics = trainer.evaluate()\n",
    "print(metrics)"
   ]
  },
  {
   "cell_type": "code",
   "execution_count": 5,
   "metadata": {},
   "outputs": [],
   "source": [
    "from sklearn.metrics import accuracy_score, precision_recall_fscore_support\n",
    "\n",
    "def compute_metrics(eval_pred):\n",
    "    logits, labels = eval_pred\n",
    "    predictions = np.argmax(logits, axis=-1)\n",
    "    precision, recall, f1, _ = precision_recall_fscore_support(labels, predictions, average='macro')\n",
    "    acc = accuracy_score(labels, predictions)\n",
    "    return {\n",
    "        \"accuracy\": acc,\n",
    "        \"precision\": precision,\n",
    "        \"recall\": recall,\n",
    "        \"f1\": f1\n",
    "    }"
   ]
  },
  {
   "cell_type": "code",
   "execution_count": 6,
   "metadata": {},
   "outputs": [
    {
     "data": {
      "text/html": [
       "\n",
       "    <div>\n",
       "      \n",
       "      <progress value='204' max='204' style='width:300px; height:20px; vertical-align: middle;'></progress>\n",
       "      [204/204 13:45, Epoch 4/4]\n",
       "    </div>\n",
       "    <table border=\"1\" class=\"dataframe\">\n",
       "  <thead>\n",
       " <tr style=\"text-align: left;\">\n",
       "      <th>Epoch</th>\n",
       "      <th>Training Loss</th>\n",
       "      <th>Validation Loss</th>\n",
       "      <th>Accuracy</th>\n",
       "      <th>Precision</th>\n",
       "      <th>Recall</th>\n",
       "      <th>F1</th>\n",
       "    </tr>\n",
       "  </thead>\n",
       "  <tbody>\n",
       "    <tr>\n",
       "      <td>1</td>\n",
       "      <td>No log</td>\n",
       "      <td>0.691994</td>\n",
       "      <td>0.844444</td>\n",
       "      <td>0.685185</td>\n",
       "      <td>0.658170</td>\n",
       "      <td>0.665873</td>\n",
       "    </tr>\n",
       "    <tr>\n",
       "      <td>2</td>\n",
       "      <td>No log</td>\n",
       "      <td>0.911378</td>\n",
       "      <td>0.844444</td>\n",
       "      <td>0.732733</td>\n",
       "      <td>0.658170</td>\n",
       "      <td>0.686833</td>\n",
       "    </tr>\n",
       "    <tr>\n",
       "      <td>3</td>\n",
       "      <td>No log</td>\n",
       "      <td>1.037307</td>\n",
       "      <td>0.800000</td>\n",
       "      <td>0.525132</td>\n",
       "      <td>0.581699</td>\n",
       "      <td>0.551648</td>\n",
       "    </tr>\n",
       "    <tr>\n",
       "      <td>4</td>\n",
       "      <td>No log</td>\n",
       "      <td>1.068505</td>\n",
       "      <td>0.822222</td>\n",
       "      <td>0.566066</td>\n",
       "      <td>0.591503</td>\n",
       "      <td>0.578247</td>\n",
       "    </tr>\n",
       "  </tbody>\n",
       "</table><p>"
      ],
      "text/plain": [
       "<IPython.core.display.HTML object>"
      ]
     },
     "metadata": {},
     "output_type": "display_data"
    },
    {
     "data": {
      "text/html": [],
      "text/plain": [
       "<IPython.core.display.HTML object>"
      ]
     },
     "metadata": {},
     "output_type": "display_data"
    },
    {
     "name": "stdout",
     "output_type": "stream",
     "text": [
      "{'eval_loss': 1.068505048751831, 'eval_accuracy': 0.8222222222222222, 'eval_precision': 0.5660660660660661, 'eval_recall': 0.5915032679738562, 'eval_f1': 0.5782472613458529, 'eval_runtime': 3.8046, 'eval_samples_per_second': 11.828, 'eval_steps_per_second': 1.577, 'epoch': 4.0}\n"
     ]
    }
   ],
   "source": [
    "trainer = Trainer(\n",
    "    model=model,\n",
    "    args=training_args,\n",
    "    train_dataset=dataset[\"train\"],\n",
    "    eval_dataset=dataset[\"test\"],\n",
    "    data_collator=data_collator,\n",
    "    compute_metrics=compute_metrics  # <--- important\n",
    ")\n",
    "trainer.train()\n",
    "eval_results = trainer.evaluate()\n",
    "print(eval_results)"
   ]
  },
  {
   "cell_type": "code",
   "execution_count": 12,
   "metadata": {},
   "outputs": [
    {
     "data": {
      "application/vnd.jupyter.widget-view+json": {
       "model_id": "60afd453d53f4bbaad8fb3cc65222685",
       "version_major": 2,
       "version_minor": 0
      },
      "text/plain": [
       "Map:   0%|          | 0/2 [00:00<?, ? examples/s]"
      ]
     },
     "metadata": {},
     "output_type": "display_data"
    },
    {
     "data": {
      "text/html": [],
      "text/plain": [
       "<IPython.core.display.HTML object>"
      ]
     },
     "metadata": {},
     "output_type": "display_data"
    },
    {
     "name": "stdout",
     "output_type": "stream",
     "text": [
      "Grok 3 is insane -> positive\n",
      "what the fuck is this ai bro. -> negative\n"
     ]
    }
   ],
   "source": [
    "test_texts = [\n",
    "    \"Grok 3 is insane\",\n",
    "    \"what the fuck is this ai bro.\"\n",
    "]\n",
    "# Convert to dataset\n",
    "test_df = pd.DataFrame({\"text\": test_texts})\n",
    "test_dataset = Dataset.from_pandas(test_df)\n",
    "\n",
    "# Tokenize\n",
    "test_dataset = test_dataset.map(lambda x: tokenizer(x[\"text\"], truncation=True, padding=True), batched=True)\n",
    "\n",
    "# Remove extra columns\n",
    "test_dataset = test_dataset.remove_columns([\"text\"])\n",
    "\n",
    "predictions = trainer.predict(test_dataset)\n",
    "pred_classes = np.argmax(predictions.predictions, axis=1)\n",
    "for text, pred in zip(test_texts, pred_classes):\n",
    "    print(text, \"->\", labels[pred])\n"
   ]
  },
  {
   "cell_type": "code",
   "execution_count": null,
   "metadata": {},
   "outputs": [],
   "source": []
  }
 ],
 "metadata": {
  "kernelspec": {
   "display_name": "annot-proj",
   "language": "python",
   "name": "python3"
  },
  "language_info": {
   "codemirror_mode": {
    "name": "ipython",
    "version": 3
   },
   "file_extension": ".py",
   "mimetype": "text/x-python",
   "name": "python",
   "nbconvert_exporter": "python",
   "pygments_lexer": "ipython3",
   "version": "3.11.11"
  }
 },
 "nbformat": 4,
 "nbformat_minor": 2
}
